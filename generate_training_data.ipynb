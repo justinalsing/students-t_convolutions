{
 "cells": [
  {
   "cell_type": "code",
   "execution_count": 1,
   "metadata": {},
   "outputs": [],
   "source": [
    "import numpy as np\n",
    "from scipy.stats import norm\n",
    "from scipy.stats import t as student\n",
    "import matplotlib.pyplot as plt\n",
    "from scipy.integrate import quad\n",
    "from tqdm import trange\n",
    "import pickle"
   ]
  },
  {
   "cell_type": "markdown",
   "metadata": {},
   "source": [
    "Student's-t$_{\\nu=2}$-Normal"
   ]
  },
  {
   "cell_type": "code",
   "execution_count": null,
   "metadata": {},
   "outputs": [],
   "source": [
    "ratio = np.logspace(-2, 2, 100)\n",
    "convolved_pdfs = []\n",
    "xs = []\n",
    "with trange(len(ratio)) as t:\n",
    "    for i in t:\n",
    "        scale_n = 1.0\n",
    "        scale_t = ratio[i]*1.\n",
    "        scale = np.sqrt(scale_n**2 + scale_t**2)\n",
    "        x = np.linspace(-6*scale, 6*scale, 200)\n",
    "        convolved_pdf = np.array([quad(lambda y: student.pdf(y, loc=0., scale=scale_t, df=2.)*norm.pdf(y-x_, loc=0., scale=scale_n), x_-6.*scale_n, x_+6.*scale_n)[0] for x_ in x])\n",
    "        \n",
    "        convolved_pdfs.append(convolved_pdf)\n",
    "        xs.append(x)\n",
    "\n",
    "logr = tf.constant(tf.expand_dims(np.log(ratio).astype(np.float32), -1))\n",
    "xs = tf.stack(xs, axis=-1)\n",
    "target_log_prob = tf.math.log(np.stack(convolved_pdfs, axis=-1).astype(np.float32))\n",
    "\n",
    "f = open('training_data/studentdf2normal.pkl', 'wb')\n",
    "pickle.dump([xs.numpy(), logr.numpy(), target_log_prob.numpy()], f)\n",
    "f.close()"
   ]
  },
  {
   "cell_type": "markdown",
   "metadata": {},
   "source": [
    "Cauchy-Normal"
   ]
  },
  {
   "cell_type": "code",
   "execution_count": null,
   "metadata": {},
   "outputs": [],
   "source": [
    "ratio = np.logspace(-2, 2, 100)\n",
    "convolved_pdfs = []\n",
    "xs = []\n",
    "with trange(len(ratio)) as t:\n",
    "    for i in t:\n",
    "        scale_n = 1.0\n",
    "        scale_t = ratio[i]*1.\n",
    "        scale = np.sqrt(scale_n**2 + scale_t**2)\n",
    "        x = np.linspace(-6*scale, 6*scale, 200)\n",
    "        convolved_pdf = np.array([quad(lambda y: student.pdf(y, loc=0., scale=scale_t, df=1.)*norm.pdf(y-x_, loc=0., scale=scale_n), x_-6.*scale_n, x_+6.*scale_n)[0] for x_ in x])\n",
    "        \n",
    "        convolved_pdfs.append(convolved_pdf)\n",
    "        xs.append(x)\n",
    "\n",
    "logr = tf.constant(tf.expand_dims(np.log(ratio).astype(np.float32), -1))\n",
    "xs = tf.stack(xs, axis=-1)\n",
    "target_log_prob = tf.math.log(np.stack(convolved_pdfs, axis=-1).astype(np.float32))\n",
    "\n",
    "f = open('training_data/studentdf1normal.pkl', 'wb')\n",
    "pickle.dump([xs.numpy(), logr.numpy(), target_log_prob.numpy()], f)\n",
    "f.close()"
   ]
  }
 ],
 "metadata": {
  "kernelspec": {
   "display_name": "Python 3",
   "language": "python",
   "name": "python3"
  },
  "language_info": {
   "codemirror_mode": {
    "name": "ipython",
    "version": 3
   },
   "file_extension": ".py",
   "mimetype": "text/x-python",
   "name": "python",
   "nbconvert_exporter": "python",
   "pygments_lexer": "ipython3",
   "version": "3.7.4"
  }
 },
 "nbformat": 4,
 "nbformat_minor": 2
}
